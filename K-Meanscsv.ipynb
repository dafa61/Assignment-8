{
 "cells": [
  {
   "cell_type": "code",
   "execution_count": 1,
   "id": "c71b37bc",
   "metadata": {},
   "outputs": [],
   "source": [
    "#Import Library yang akan digunakan\n",
    "%matplotlib inline\n",
    "import matplotlib.pyplot as plt\n",
    "import numpy as numpy\n",
    "import pandas as pd\n",
    "from sklearn. cluster import KMeans"
   ]
  },
  {
   "cell_type": "code",
   "execution_count": 5,
   "id": "74a3f6e7",
   "metadata": {},
   "outputs": [
    {
     "data": {
      "text/plain": [
       "Index(['Gaji', 'Pengeluaran'], dtype='object')"
      ]
     },
     "execution_count": 5,
     "metadata": {},
     "output_type": "execute_result"
    }
   ],
   "source": [
    "#Menyiapkan data dan memanggil dataset\n",
    "dataset = pd.read_csv( 'D:\\konsumen.csv ')\n",
    "dataset.keys ()"
   ]
  },
  {
   "cell_type": "code",
   "execution_count": 6,
   "id": "355e7598",
   "metadata": {},
   "outputs": [
    {
     "data": {
      "text/html": [
       "<div>\n",
       "<style scoped>\n",
       "    .dataframe tbody tr th:only-of-type {\n",
       "        vertical-align: middle;\n",
       "    }\n",
       "\n",
       "    .dataframe tbody tr th {\n",
       "        vertical-align: top;\n",
       "    }\n",
       "\n",
       "    .dataframe thead th {\n",
       "        text-align: right;\n",
       "    }\n",
       "</style>\n",
       "<table border=\"1\" class=\"dataframe\">\n",
       "  <thead>\n",
       "    <tr style=\"text-align: right;\">\n",
       "      <th></th>\n",
       "      <th>Gaji</th>\n",
       "      <th>Pengeluaran</th>\n",
       "    </tr>\n",
       "  </thead>\n",
       "  <tbody>\n",
       "    <tr>\n",
       "      <th>0</th>\n",
       "      <td>2500</td>\n",
       "      <td>1750</td>\n",
       "    </tr>\n",
       "    <tr>\n",
       "      <th>1</th>\n",
       "      <td>3800</td>\n",
       "      <td>4200</td>\n",
       "    </tr>\n",
       "    <tr>\n",
       "      <th>2</th>\n",
       "      <td>3900</td>\n",
       "      <td>3800</td>\n",
       "    </tr>\n",
       "    <tr>\n",
       "      <th>3</th>\n",
       "      <td>4350</td>\n",
       "      <td>5500</td>\n",
       "    </tr>\n",
       "    <tr>\n",
       "      <th>4</th>\n",
       "      <td>4400</td>\n",
       "      <td>3200</td>\n",
       "    </tr>\n",
       "  </tbody>\n",
       "</table>\n",
       "</div>"
      ],
      "text/plain": [
       "   Gaji  Pengeluaran\n",
       "0  2500         1750\n",
       "1  3800         4200\n",
       "2  3900         3800\n",
       "3  4350         5500\n",
       "4  4400         3200"
      ]
     },
     "execution_count": 6,
     "metadata": {},
     "output_type": "execute_result"
    }
   ],
   "source": [
    "dataku = pd.DataFrame(dataset)\n",
    "dataku.head ()"
   ]
  },
  {
   "cell_type": "code",
   "execution_count": 8,
   "id": "e5985448",
   "metadata": {},
   "outputs": [
    {
     "name": "stdout",
     "output_type": "stream",
     "text": [
      "[[ 2500  1750]\n",
      " [ 3800  4200]\n",
      " [ 3900  3800]\n",
      " [ 4350  5500]\n",
      " [ 4400  3200]\n",
      " [ 5500  5450]\n",
      " [ 5600  5950]\n",
      " [ 5750  4100]\n",
      " [ 6850  6050]\n",
      " [ 6900  8500]\n",
      " [ 7250  9500]\n",
      " [ 7350  6050]\n",
      " [ 7500  8500]\n",
      " [ 7800  9500]\n",
      " [ 8200  8300]\n",
      " [ 8500  6500]\n",
      " [ 8550  8400]\n",
      " [ 8750  6000]\n",
      " [ 9100 10500]\n",
      " [ 9100  8500]]\n"
     ]
    }
   ],
   "source": [
    "#Konversi ke data Array\n",
    "X = numpy.asarray(dataset)\n",
    "print(X)"
   ]
  },
  {
   "cell_type": "code",
   "execution_count": 9,
   "id": "e995f866",
   "metadata": {},
   "outputs": [
    {
     "data": {
      "image/png": "[encoded data removed]",
      "text/plain": [
       "<Figure size 432x288 with 1 Axes>"
      ]
     },
     "metadata": {
      "needs_background": "light"
     },
     "output_type": "display_data"
    }
   ],
   "source": [
    "#Menampilkan data dalam bentuk scatter plot\n",
    "plt.scatter (X[ : ,0], X[:,1], label= 'True Position ')\n",
    "plt.xlabel(\"6aji \")\n",
    "plt.ylabel(\"Pengeluaran \")\n",
    "plt.title( \"Grafik Penyebaran Data Konsumen \")\n",
    "plt.show()"
   ]
  },
  {
   "cell_type": "code",
   "execution_count": 10,
   "id": "60f9c933",
   "metadata": {},
   "outputs": [
    {
     "data": {
      "text/plain": [
       "KMeans(n_clusters=2)"
      ]
     },
     "execution_count": 10,
     "metadata": {},
     "output_type": "execute_result"
    }
   ],
   "source": [
    "#Mengaktifkan K-Means dengan jumlah K=2\n",
    "kmeans = KMeans(n_clusters=2)\n",
    "kmeans.fit(X)"
   ]
  },
  {
   "cell_type": "code",
   "execution_count": 11,
   "id": "d875bf47",
   "metadata": {},
   "outputs": [
    {
     "name": "stdout",
     "output_type": "stream",
     "text": [
      "[[7987.5  8025.  ]\n",
      " [4475.   4243.75]]\n"
     ]
    }
   ],
   "source": [
    "#Menampilkan nilai Centroid yang digenerate oleh algoritma\n",
    "print(kmeans.cluster_centers_)"
   ]
  },
  {
   "cell_type": "code",
   "execution_count": 16,
   "id": "83fb6553",
   "metadata": {},
   "outputs": [
    {
     "data": {
      "image/png": "[encoded data removed]",
      "text/plain": [
       "<Figure size 432x288 with 1 Axes>"
      ]
     },
     "metadata": {
      "needs_background": "light"
     },
     "output_type": "display_data"
    }
   ],
   "source": [
    "#Plot Data Point\n",
    "#Memvisualisasikan Hasil Klasterisasi Data Konsumen\n",
    "plt.scatter(X[:,0], X[:,1], c=kmeans.labels_)\n",
    "plt.xlabel (\"Gaji\")\n",
    "plt.ylabel (\"Pengeluaran \")\n",
    "plt.title (\"Grafik Hasil Klasterisasi Data Gaji dan Pengeluaran Konsumen \")\n",
    "plt.show()"
   ]
  },
  {
   "cell_type": "code",
   "execution_count": 22,
   "id": "b65d41be",
   "metadata": {},
   "outputs": [
    {
     "data": {
      "image/png": "[encoded data removed]",
      "text/plain": [
       "<Figure size 432x288 with 1 Axes>"
      ]
     },
     "metadata": {
      "needs_background": "light"
     },
     "output_type": "display_data"
    }
   ],
   "source": [
    "#Plot Data Point\n",
    "#Memvisualisasikan hasil klasterisasii dengan centroid dr masing2 klaster\n",
    "plt.scatter(X[:,0], X[:,1], c=kmeans.labels_)\n",
    "plt.scatter(kmeans.cluster_centers_[:,0], kmeans.cluster_centers_[:,1])\n",
    "plt.xlabel( \"Gaji \")\n",
    "plt.ylabel(\"Pengeluaran \")\n",
    "plt.title(\"Grafik Hasil Klasterisasi Data Gaji dan Pengeluaran Konsumen \")\n",
    "plt.show()"
   ]
  },
  {
   "cell_type": "code",
   "execution_count": null,
   "id": "b29e801d",
   "metadata": {},
   "outputs": [],
   "source": []
  }
 ],
 "metadata": {
  "kernelspec": {
   "display_name": "Python 3 (ipykernel)",
   "language": "python",
   "name": "python3"
  },
  "language_info": {
   "codemirror_mode": {
    "name": "ipython",
    "version": 3
   },
   "file_extension": ".py",
   "mimetype": "text/x-python",
   "name": "python",
   "nbconvert_exporter": "python",
   "pygments_lexer": "ipython3",
   "version": "3.9.7"
  }
 },
 "nbformat": 4,
 "nbformat_minor": 5
}
